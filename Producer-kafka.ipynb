{
 "cells": [
  {
   "cell_type": "code",
   "execution_count": 1,
   "id": "95b5195a",
   "metadata": {},
   "outputs": [],
   "source": [
    "from kafka import KafkaProducer\n",
    "import json"
   ]
  },
  {
   "cell_type": "code",
   "execution_count": 2,
   "id": "77f9bfb0",
   "metadata": {},
   "outputs": [],
   "source": [
    "topic_name='simple-message-topic'"
   ]
  },
  {
   "cell_type": "code",
   "execution_count": 3,
   "id": "c4137834",
   "metadata": {},
   "outputs": [],
   "source": [
    "producer = KafkaProducer(bootstrap_servers=['localhost:9092'], value_serializer= lambda x: json.dumps(x).encode('utf-8'))"
   ]
  },
  {
   "cell_type": "code",
   "execution_count": 4,
   "id": "e370d80d",
   "metadata": {},
   "outputs": [
    {
     "name": "stdout",
     "output_type": "stream",
     "text": [
      "Producer is ready. Type your message below (type 'exit' to quit.) \n"
     ]
    }
   ],
   "source": [
    "print(\"Producer is ready. Type your message below (type 'exit' to quit.) \") "
   ]
  },
  {
   "cell_type": "code",
   "execution_count": null,
   "id": "7d40b41f",
   "metadata": {},
   "outputs": [
    {
     "name": "stdout",
     "output_type": "stream",
     "text": [
      "hii\n",
      "Sent: {'message': 'hii'}\n",
      "jj\n",
      "Sent: {'message': 'jj'}\n",
      "kk\n",
      "Sent: {'message': 'kk'}\n"
     ]
    }
   ],
   "source": [
    "try:\n",
    "    while True:\n",
    "        \n",
    "        user_input = input()\n",
    "        if user_input.lower() == 'exit':\n",
    "            print(\"Exiting producer\")\n",
    "            break\n",
    "        \n",
    "        message= {'message': user_input}\n",
    "        \n",
    "        producer.send(topic_name,value=message)\n",
    "        producer.flush()\n",
    "        print(f\"Sent: {message}\")\n",
    "        \n",
    "except KeyboardInterrupt:\n",
    "    print(\"Producer interrupted\")\n",
    "finally:\n",
    "    producer.close()"
   ]
  },
  {
   "cell_type": "code",
   "execution_count": null,
   "id": "c58ec1bb",
   "metadata": {},
   "outputs": [],
   "source": []
  }
 ],
 "metadata": {
  "kernelspec": {
   "display_name": "Python 3 (ipykernel)",
   "language": "python",
   "name": "python3"
  },
  "language_info": {
   "codemirror_mode": {
    "name": "ipython",
    "version": 3
   },
   "file_extension": ".py",
   "mimetype": "text/x-python",
   "name": "python",
   "nbconvert_exporter": "python",
   "pygments_lexer": "ipython3",
   "version": "3.11.5"
  }
 },
 "nbformat": 4,
 "nbformat_minor": 5
}
