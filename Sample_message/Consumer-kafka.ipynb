{
 "cells": [
  {
   "cell_type": "code",
   "execution_count": 1,
   "id": "61a79ac9",
   "metadata": {},
   "outputs": [],
   "source": [
    "from kafka import KafkaConsumer\n",
    "import json"
   ]
  },
  {
   "cell_type": "code",
   "execution_count": 2,
   "id": "77db3780",
   "metadata": {},
   "outputs": [],
   "source": [
    "topic_name = 'simple-message-topic'"
   ]
  },
  {
   "cell_type": "code",
   "execution_count": 3,
   "id": "7b635c6b",
   "metadata": {},
   "outputs": [],
   "source": [
    "consumer = KafkaConsumer(topic_name,bootstrap_servers=['localhost:9092'],auto_offset_reset='latest',enable_auto_commit=True,group_id='my-group', value_deserializer= lambda x: json.loads(x.decode('utf-8')))"
   ]
  },
  {
   "cell_type": "code",
   "execution_count": null,
   "id": "5247eed6",
   "metadata": {},
   "outputs": [
    {
     "name": "stdout",
     "output_type": "stream",
     "text": [
      "Consumer is listening for message.... (press ctrl+C to exit)\n",
      "Received: {'message': 'jj'}\n"
     ]
    }
   ],
   "source": [
    "print(\"Consumer is listening for message.... (press ctrl+C to exit)\")\n",
    "try:\n",
    "    for message in consumer:\n",
    "        print(f\"Received: {message.value}\")\n",
    "except KeyboardInterrupt:\n",
    "    print(\"Consumer interrupted.\")\n",
    "finally:\n",
    "    consumer.close()"
   ]
  },
  {
   "cell_type": "code",
   "execution_count": null,
   "id": "0ffcc31d",
   "metadata": {},
   "outputs": [],
   "source": []
  },
  {
   "cell_type": "code",
   "execution_count": null,
   "id": "052fead6",
   "metadata": {},
   "outputs": [],
   "source": []
  }
 ],
 "metadata": {
  "kernelspec": {
   "display_name": "Python 3 (ipykernel)",
   "language": "python",
   "name": "python3"
  },
  "language_info": {
   "codemirror_mode": {
    "name": "ipython",
    "version": 3
   },
   "file_extension": ".py",
   "mimetype": "text/x-python",
   "name": "python",
   "nbconvert_exporter": "python",
   "pygments_lexer": "ipython3",
   "version": "3.11.5"
  }
 },
 "nbformat": 4,
 "nbformat_minor": 5
}
